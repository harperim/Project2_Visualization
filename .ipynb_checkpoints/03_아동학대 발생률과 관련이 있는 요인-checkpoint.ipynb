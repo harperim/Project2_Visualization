{
 "cells": [
  {
   "cell_type": "markdown",
   "id": "5190fdb4",
   "metadata": {},
   "source": [
    "# 3. 아동학대 발생률과 관련이 있는 요인"
   ]
  },
  {
   "cell_type": "markdown",
   "id": "19b85439",
   "metadata": {},
   "source": [
    "## 관련요인\n",
    "1. 범죄발생 지역 (2018-2021)\n",
    "2. 시∙군∙구별 고위험음주율 (2018-2021)\n",
    "3. 행정구역 시도별 경제활동인구 (2018-2021)\n",
    "- 출처 : 아동학대 발생률에 영향을 미치는 요인: 공공데이터를 활용한 중․거시적 관점을 중심으로 - 황유리, 김광혁 (전주대학교) \n",
    "    - https://www.kci.go.kr/kciportal/ci/sereArticleSearch/ciSereArtiView.kci?sereArticleSearchBean.artiId=ART002630082"
   ]
  },
  {
   "cell_type": "markdown",
   "id": "cef13fd5",
   "metadata": {},
   "source": [
    "## 가설\n",
    "- 아동학대 관련 요인\n",
    "1. 시도별 범죄발생률의 발생 정도와 아동학대 비율은 관련이 있을 것이다.\n",
    "2. 시도별 고위험음주율의 정도와 아동학대 비율은 관련이 있을 것이다.\n",
    "3. 시도별 비경제활동인구수와 아동학대 비율은 관련이 있을 것이다."
   ]
  },
  {
   "cell_type": "code",
   "execution_count": 1,
   "id": "964beab8",
   "metadata": {},
   "outputs": [],
   "source": [
    "import pandas as pd\n",
    "import numpy as np\n",
    "import matplotlib.pyplot as plt\n",
    "%matplotlib inline\n",
    "\n",
    "# from IPython.core.interactiveshell import InteractiveShell\n",
    "# InteractiveShell.ast_node_interactivity=\"all\""
   ]
  },
  {
   "cell_type": "code",
   "execution_count": 2,
   "id": "49135aed",
   "metadata": {},
   "outputs": [],
   "source": [
    "import platform\n",
    "\n",
    "from matplotlib import font_manager, rc\n",
    "plt.rcParams['axes.unicode_minus'] = False\n",
    "\n",
    "if platform.system() == 'Darwin':  # 맥OS \n",
    "    rc('font', family='AppleGothic')\n",
    "elif platform.system() == 'Windows':  # 윈도우\n",
    "    path = \"c:/Windows/Fonts/malgun.ttf\"\n",
    "    font_name = font_manager.FontProperties(fname=path).get_name()\n",
    "    rc('font', family=font_name)\n",
    "else:\n",
    "    print('Unknown system...  sorry~~~')"
   ]
  },
  {
   "cell_type": "code",
   "execution_count": 3,
   "id": "1d0c3534",
   "metadata": {},
   "outputs": [],
   "source": [
    "import warnings\n",
    "warnings.filterwarnings('ignore')"
   ]
  },
  {
   "cell_type": "markdown",
   "id": "1436435d",
   "metadata": {},
   "source": [
    "### 1. 범죄발생 지역 (2018-2021)"
   ]
  },
  {
   "cell_type": "markdown",
   "id": "0512fbb9",
   "metadata": {},
   "source": [
    "- 시도별 범죄발생률의 발생 정도와 아동학대 비율은 관련이 있을 것이다."
   ]
  },
  {
   "cell_type": "code",
   "execution_count": 4,
   "id": "ad10228f",
   "metadata": {},
   "outputs": [
    {
     "data": {
      "text/html": [
       "<div>\n",
       "<style scoped>\n",
       "    .dataframe tbody tr th:only-of-type {\n",
       "        vertical-align: middle;\n",
       "    }\n",
       "\n",
       "    .dataframe tbody tr th {\n",
       "        vertical-align: top;\n",
       "    }\n",
       "\n",
       "    .dataframe thead th {\n",
       "        text-align: right;\n",
       "    }\n",
       "</style>\n",
       "<table border=\"1\" class=\"dataframe\">\n",
       "  <thead>\n",
       "    <tr style=\"text-align: right;\">\n",
       "      <th>1</th>\n",
       "      <th>시점</th>\n",
       "      <th>살인</th>\n",
       "      <th>강도</th>\n",
       "      <th>성폭력</th>\n",
       "      <th>절도</th>\n",
       "      <th>폭행</th>\n",
       "      <th>평균</th>\n",
       "    </tr>\n",
       "    <tr>\n",
       "      <th>발생지역별(1)</th>\n",
       "      <th></th>\n",
       "      <th></th>\n",
       "      <th></th>\n",
       "      <th></th>\n",
       "      <th></th>\n",
       "      <th></th>\n",
       "      <th></th>\n",
       "    </tr>\n",
       "  </thead>\n",
       "  <tbody>\n",
       "    <tr>\n",
       "      <th>서울</th>\n",
       "      <td>2018</td>\n",
       "      <td>150</td>\n",
       "      <td>145</td>\n",
       "      <td>9388</td>\n",
       "      <td>39306</td>\n",
       "      <td>35525</td>\n",
       "      <td>14422.0</td>\n",
       "    </tr>\n",
       "    <tr>\n",
       "      <th>서울</th>\n",
       "      <td>2019</td>\n",
       "      <td>160</td>\n",
       "      <td>157</td>\n",
       "      <td>9370</td>\n",
       "      <td>42362</td>\n",
       "      <td>34070</td>\n",
       "      <td>14690.0</td>\n",
       "    </tr>\n",
       "    <tr>\n",
       "      <th>서울</th>\n",
       "      <td>2020</td>\n",
       "      <td>168</td>\n",
       "      <td>143</td>\n",
       "      <td>8285</td>\n",
       "      <td>38414</td>\n",
       "      <td>28699</td>\n",
       "      <td>12955.0</td>\n",
       "    </tr>\n",
       "    <tr>\n",
       "      <th>서울</th>\n",
       "      <td>2021</td>\n",
       "      <td>130</td>\n",
       "      <td>125</td>\n",
       "      <td>8459</td>\n",
       "      <td>33639</td>\n",
       "      <td>24030</td>\n",
       "      <td>11401.0</td>\n",
       "    </tr>\n",
       "    <tr>\n",
       "      <th>부산</th>\n",
       "      <td>2018</td>\n",
       "      <td>55</td>\n",
       "      <td>87</td>\n",
       "      <td>2012</td>\n",
       "      <td>14464</td>\n",
       "      <td>10802</td>\n",
       "      <td>4906.0</td>\n",
       "    </tr>\n",
       "  </tbody>\n",
       "</table>\n",
       "</div>"
      ],
      "text/plain": [
       "1           시점   살인   강도   성폭력     절도     폭행       평균\n",
       "발생지역별(1)                                             \n",
       "서울        2018  150  145  9388  39306  35525  14422.0\n",
       "서울        2019  160  157  9370  42362  34070  14690.0\n",
       "서울        2020  168  143  8285  38414  28699  12955.0\n",
       "서울        2021  130  125  8459  33639  24030  11401.0\n",
       "부산        2018   55   87  2012  14464  10802   4906.0"
      ]
     },
     "execution_count": 4,
     "metadata": {},
     "output_type": "execute_result"
    }
   ],
   "source": [
    "crime = pd.read_csv('./data/범죄발생_지역_2018_2021.csv',\n",
    "                   encoding = 'cp949',\n",
    "                   low_memory = False)\n",
    "\n",
    "# 5대 강력범죄 : 살인, 강도, 강간/추행(성폭력), 절도, 폭행에 대해서만 다루도록 한다.\n",
    "\n",
    "# 컬럼 변경\n",
    "crime.columns = crime.iloc[1]\n",
    "\n",
    "# 발생지역별(1) 행 2개 삭제 후, 5대 강력범죄 컬럼만 추출\n",
    "\n",
    "# - 행 2개 삭제\n",
    "crime.drop([0,1,2,3,4,5], axis=0, inplace=True)\n",
    "\n",
    "# - 5대 강력범죄 컬럼 추출\n",
    "crime = crime[['발생지역별(1)', '시점', '살인', '강도', '성폭력', '절도', '폭행']]\n",
    "\n",
    "# index 재설정\n",
    "crime = crime.set_index('발생지역별(1)', drop=False)\n",
    "crime.drop(['발생지역별(1)'], axis=1, inplace=True)\n",
    "# crime\n",
    "\n",
    "# 평균 열 추가\n",
    "crime.replace('-', 0, inplace=True)\n",
    "crime = crime.astype('int')\n",
    "crime['평균'] = crime.mean(axis=1)\n",
    "crime['평균'] = round(crime['평균'])\n",
    "crime.head()\n",
    "\n",
    "# set(crime.index)  # 발생지역\n",
    "# len(set(crime.index))  # 17개 지역"
   ]
  },
  {
   "cell_type": "code",
   "execution_count": 5,
   "id": "c78e990a",
   "metadata": {},
   "outputs": [],
   "source": [
    "c2018 = crime[crime['시점']==2018]  # 2018\n",
    "c2018.head()\n",
    "\n",
    "c2019 = crime[crime['시점']==2019]  # 2019\n",
    "\n",
    "c2020 = crime[crime['시점']==2020]  # 2020\n",
    "\n",
    "c2021 = crime[crime['시점']==2021]  # 2021"
   ]
  },
  {
   "cell_type": "code",
   "execution_count": 6,
   "id": "f4e756c9",
   "metadata": {},
   "outputs": [],
   "source": [
    "# 연도별 아동학대 의심사례\n",
    "year18 = pd.read_csv('./data/2018년도 아동학대 의심사례.csv',\n",
    "                   encoding = 'utf-8',\n",
    "                   low_memory = False)\n",
    "year19 = pd.read_csv('./data/2019년도 아동학대 의심사례.csv',\n",
    "                   encoding = 'utf-8',\n",
    "                   low_memory = False)\n",
    "year20 = pd.read_csv('./data/2020년도 아동학대 의심사례.csv',\n",
    "                   encoding = 'utf-8',\n",
    "                   low_memory = False)\n",
    "year21 = pd.read_csv('./data/2021년도 아동학대 의심사례.csv',\n",
    "                   encoding = 'utf-8',\n",
    "                   low_memory = False)"
   ]
  },
  {
   "cell_type": "code",
   "execution_count": 7,
   "id": "f4c4fffb",
   "metadata": {
    "scrolled": false
   },
   "outputs": [
    {
     "data": {
      "text/plain": [
       "<matplotlib.collections.PathCollection at 0x191717e2770>"
      ]
     },
     "execution_count": 7,
     "metadata": {},
     "output_type": "execute_result"
    },
    {
     "data": {
      "image/png": "[encoded data removed]",
      "text/plain": [
       "<Figure size 640x480 with 4 Axes>"
      ]
     },
     "metadata": {},
     "output_type": "display_data"
    }
   ],
   "source": [
    "# 연도별 범죄발생 건수 - 아동학대 의심사례 상관관계 분석\n",
    "x18 = c2018['평균'].values\n",
    "y18 = year18['아동학대 의심사례'].values\n",
    "\n",
    "x19 = c2019['평균'].values\n",
    "y19 = year19['아동학대 의심사례'].values\n",
    "\n",
    "x20 = c2020['평균'].values\n",
    "y20 = year20['아동학대 의심사례'].values\n",
    "\n",
    "x21 = c2021['평균'].values\n",
    "y21 = year21['아동학대 의심사례'].values\n",
    "\n",
    "# 그래프 겹치지 않게 하기\n",
    "plt.subplots(constrained_layout=True)\n",
    "\n",
    "# 2018년도 범죄발생 건수와 아동학대 의심사례 상관관계\n",
    "plt.subplot(221)\n",
    "plt.title('<2018 범죄발생 건수와 의심사례 상관관계>', fontsize=10)\n",
    "plt.xlabel('평균 범죄발생 건수', labelpad=10, fontsize=8)\n",
    "plt.ylabel('아동학대 의심사례 수 (건)', labelpad=10, fontsize=8)\n",
    "plt.scatter(x18, y18, alpha=0.5)  # 양의 상관관계가 보인다.\n",
    "\n",
    "# 2019년도 범죄발생 건수와 아동학대 의심사례 상관관계\n",
    "plt.subplot(222)\n",
    "plt.title('<2019 범죄발생 건수와 의심사례 상관관계>', fontsize=10)\n",
    "plt.xlabel('평균 범죄발생 건수', labelpad=10, fontsize=8)\n",
    "plt.ylabel('아동학대 의심사례 수 (건)', labelpad=10, fontsize=8)\n",
    "plt.scatter(x19, y19, alpha=0.5)\n",
    "\n",
    "# 2020년도 범죄발생 건수와 아동학대 의심사례 상관관계\n",
    "plt.subplot(223)\n",
    "plt.title('<2020 범죄발생 건수와 의심사례 상관관계>', fontsize=10)\n",
    "plt.xlabel('평균 범죄발생 건수', labelpad=10, fontsize=8)\n",
    "plt.ylabel('아동학대 의심사례 수 (건)', labelpad=10, fontsize=8)\n",
    "plt.scatter(x20, y20, alpha=0.5)\n",
    "\n",
    "# 2021년도 범죄발생 건수와 아동학대 의심사례 상관관계\n",
    "plt.subplot(224)\n",
    "plt.title('<2020 범죄발생 건수와 의심사례 상관관계>', fontsize=10)\n",
    "plt.xlabel('평균 범죄발생 건수', labelpad=10, fontsize=8)\n",
    "plt.ylabel('아동학대 의심사례 수 (건)', labelpad=10, fontsize=8)\n",
    "plt.scatter(x21, y21, alpha=0.5)"
   ]
  },
  {
   "cell_type": "code",
   "execution_count": 8,
   "id": "b4f28006",
   "metadata": {},
   "outputs": [
    {
     "name": "stdout",
     "output_type": "stream",
     "text": [
      "0.8633264855561409\n",
      "0.8346564524638167\n",
      "0.8868350977446203\n",
      "0.8987858527857506\n"
     ]
    }
   ],
   "source": [
    "# 상관계수\n",
    "print(np.corrcoef(x18, y18)[0, 1])\n",
    "print(np.corrcoef(x19, y19)[0, 1])\n",
    "print(np.corrcoef(x20, y20)[0, 1])\n",
    "print(np.corrcoef(x21, y21)[0, 1])"
   ]
  },
  {
   "cell_type": "markdown",
   "id": "18a31799",
   "metadata": {},
   "source": [
    "### 1) 결론\n",
    "- 상관계수는 -1에서 1 사이의 값을 가진다.\n",
    "    - 0인 경우 : 두 변수 간에 선형관계가 전혀 없다.\n",
    "    - 0.3 ~ 0.7 : 비교적 뚜렷한 양의 상관관계를 보인다.\n",
    "    - 0.7 ~ 1.0 : 강한 양의 상관관계를 보인다.\n",
    "\n",
    "- 즉, 연도별 범죄발생 건수와 아동학대 의심사례는 모두 0.8 이상의 상관계수 값을 가지므로 강한 양의 상관관계를 보인다고 할 수 있다. 이는 그래프를 통해서도 확인할 수 있다.\n",
    "- 위의 결과를 토대로 범죄발생 건수가 아동학대 의심사례를 원인으로 유추해 볼 만하다고 할 수 있다."
   ]
  },
  {
   "cell_type": "markdown",
   "id": "f1ae3202",
   "metadata": {},
   "source": [
    "### 2. 시∙군∙구별 고위험음주율 (2018-2021)"
   ]
  },
  {
   "cell_type": "markdown",
   "id": "281a5940",
   "metadata": {},
   "source": [
    "- 시도별 고위험음주율 정도와 아동학대 비율은 관련이 있을 것이다."
   ]
  },
  {
   "cell_type": "code",
   "execution_count": 9,
   "id": "75dde1d0",
   "metadata": {},
   "outputs": [
    {
     "data": {
      "text/html": [
       "<div>\n",
       "<style scoped>\n",
       "    .dataframe tbody tr th:only-of-type {\n",
       "        vertical-align: middle;\n",
       "    }\n",
       "\n",
       "    .dataframe tbody tr th {\n",
       "        vertical-align: top;\n",
       "    }\n",
       "\n",
       "    .dataframe thead th {\n",
       "        text-align: right;\n",
       "    }\n",
       "</style>\n",
       "<table border=\"1\" class=\"dataframe\">\n",
       "  <thead>\n",
       "    <tr style=\"text-align: right;\">\n",
       "      <th></th>\n",
       "      <th>시군구별(1)</th>\n",
       "      <th>시군구별(2)</th>\n",
       "      <th>시군구별(3)</th>\n",
       "      <th>시점</th>\n",
       "      <th>응답자수 (명)</th>\n",
       "      <th>조율 (%)</th>\n",
       "      <th>조율표준오차</th>\n",
       "      <th>표준화율 (%)</th>\n",
       "      <th>표준화율표준오차</th>\n",
       "    </tr>\n",
       "  </thead>\n",
       "  <tbody>\n",
       "    <tr>\n",
       "      <th>0</th>\n",
       "      <td>서울특별시</td>\n",
       "      <td>소계</td>\n",
       "      <td>소계</td>\n",
       "      <td>2018</td>\n",
       "      <td>22900</td>\n",
       "      <td>13.0</td>\n",
       "      <td>0.3</td>\n",
       "      <td>13.8</td>\n",
       "      <td>0.3</td>\n",
       "    </tr>\n",
       "    <tr>\n",
       "      <th>1</th>\n",
       "      <td>서울특별시</td>\n",
       "      <td>소계</td>\n",
       "      <td>소계</td>\n",
       "      <td>2019</td>\n",
       "      <td>22925</td>\n",
       "      <td>12.6</td>\n",
       "      <td>0.3</td>\n",
       "      <td>13.5</td>\n",
       "      <td>0.3</td>\n",
       "    </tr>\n",
       "    <tr>\n",
       "      <th>2</th>\n",
       "      <td>서울특별시</td>\n",
       "      <td>소계</td>\n",
       "      <td>소계</td>\n",
       "      <td>2020</td>\n",
       "      <td>22907</td>\n",
       "      <td>8.9</td>\n",
       "      <td>0.2</td>\n",
       "      <td>9.6</td>\n",
       "      <td>0.2</td>\n",
       "    </tr>\n",
       "    <tr>\n",
       "      <th>3</th>\n",
       "      <td>서울특별시</td>\n",
       "      <td>소계</td>\n",
       "      <td>소계</td>\n",
       "      <td>2021</td>\n",
       "      <td>22919</td>\n",
       "      <td>8.3</td>\n",
       "      <td>0.2</td>\n",
       "      <td>9.1</td>\n",
       "      <td>0.2</td>\n",
       "    </tr>\n",
       "    <tr>\n",
       "      <th>104</th>\n",
       "      <td>부산광역시</td>\n",
       "      <td>소계</td>\n",
       "      <td>소계</td>\n",
       "      <td>2018</td>\n",
       "      <td>14515</td>\n",
       "      <td>15.7</td>\n",
       "      <td>0.4</td>\n",
       "      <td>17.2</td>\n",
       "      <td>0.4</td>\n",
       "    </tr>\n",
       "  </tbody>\n",
       "</table>\n",
       "</div>"
      ],
      "text/plain": [
       "    시군구별(1) 시군구별(2) 시군구별(3)    시점  응답자수 (명)  조율 (%)  조율표준오차  표준화율 (%)  \\\n",
       "0     서울특별시      소계      소계  2018     22900    13.0     0.3      13.8   \n",
       "1     서울특별시      소계      소계  2019     22925    12.6     0.3      13.5   \n",
       "2     서울특별시      소계      소계  2020     22907     8.9     0.2       9.6   \n",
       "3     서울특별시      소계      소계  2021     22919     8.3     0.2       9.1   \n",
       "104   부산광역시      소계      소계  2018     14515    15.7     0.4      17.2   \n",
       "\n",
       "     표준화율표준오차  \n",
       "0         0.3  \n",
       "1         0.3  \n",
       "2         0.2  \n",
       "3         0.2  \n",
       "104       0.4  "
      ]
     },
     "execution_count": 9,
     "metadata": {},
     "output_type": "execute_result"
    }
   ],
   "source": [
    "high_risk = pd.read_csv('./data/시·군·구별_고위험음주율_2018_2021.csv',\n",
    "                                encoding = 'cp949',\n",
    "                                low_memory = False)\n",
    "high_risk = high_risk[high_risk['시군구별(2)']=='소계']\n",
    "high_risk.head()"
   ]
  },
  {
   "cell_type": "code",
   "execution_count": 10,
   "id": "d023bce1",
   "metadata": {},
   "outputs": [
    {
     "data": {
      "text/html": [
       "<div>\n",
       "<style scoped>\n",
       "    .dataframe tbody tr th:only-of-type {\n",
       "        vertical-align: middle;\n",
       "    }\n",
       "\n",
       "    .dataframe tbody tr th {\n",
       "        vertical-align: top;\n",
       "    }\n",
       "\n",
       "    .dataframe thead th {\n",
       "        text-align: right;\n",
       "    }\n",
       "</style>\n",
       "<table border=\"1\" class=\"dataframe\">\n",
       "  <thead>\n",
       "    <tr style=\"text-align: right;\">\n",
       "      <th></th>\n",
       "      <th>시군구별(1)</th>\n",
       "      <th>시점</th>\n",
       "      <th>응답자수 (명)</th>\n",
       "      <th>고위험</th>\n",
       "    </tr>\n",
       "  </thead>\n",
       "  <tbody>\n",
       "    <tr>\n",
       "      <th>0</th>\n",
       "      <td>서울특별시</td>\n",
       "      <td>2018</td>\n",
       "      <td>22900</td>\n",
       "      <td>2977</td>\n",
       "    </tr>\n",
       "    <tr>\n",
       "      <th>1</th>\n",
       "      <td>서울특별시</td>\n",
       "      <td>2019</td>\n",
       "      <td>22925</td>\n",
       "      <td>2889</td>\n",
       "    </tr>\n",
       "    <tr>\n",
       "      <th>2</th>\n",
       "      <td>서울특별시</td>\n",
       "      <td>2020</td>\n",
       "      <td>22907</td>\n",
       "      <td>2039</td>\n",
       "    </tr>\n",
       "    <tr>\n",
       "      <th>3</th>\n",
       "      <td>서울특별시</td>\n",
       "      <td>2021</td>\n",
       "      <td>22919</td>\n",
       "      <td>1902</td>\n",
       "    </tr>\n",
       "    <tr>\n",
       "      <th>104</th>\n",
       "      <td>부산광역시</td>\n",
       "      <td>2018</td>\n",
       "      <td>14515</td>\n",
       "      <td>2279</td>\n",
       "    </tr>\n",
       "  </tbody>\n",
       "</table>\n",
       "</div>"
      ],
      "text/plain": [
       "    시군구별(1)    시점  응답자수 (명)   고위험\n",
       "0     서울특별시  2018     22900  2977\n",
       "1     서울특별시  2019     22925  2889\n",
       "2     서울특별시  2020     22907  2039\n",
       "3     서울특별시  2021     22919  1902\n",
       "104   부산광역시  2018     14515  2279"
      ]
     },
     "execution_count": 10,
     "metadata": {},
     "output_type": "execute_result"
    }
   ],
   "source": [
    "high_risk['고위험'] = round(high_risk['응답자수 (명)']*high_risk['조율 (%)'] / 100)\n",
    "high_risk = high_risk[['시군구별(1)', '시점', '응답자수 (명)', '고위험']]\n",
    "high_risk = high_risk.astype({'고위험': 'int'})\n",
    "high_risk.head()"
   ]
  },
  {
   "cell_type": "code",
   "execution_count": 11,
   "id": "8dc077bc",
   "metadata": {
    "scrolled": false
   },
   "outputs": [],
   "source": [
    "h18 = high_risk[high_risk['시점']==2018]\n",
    "h19 = high_risk[high_risk['시점']==2019]\n",
    "h20 = high_risk[high_risk['시점']==2020]\n",
    "h21 = high_risk[high_risk['시점']==2021]"
   ]
  },
  {
   "cell_type": "code",
   "execution_count": 12,
   "id": "01005f60",
   "metadata": {},
   "outputs": [],
   "source": [
    "# 연도별 고위험음주율 - 아동학대 의심사례 상관관계 분석\n",
    "x18 = h18['고위험'].values\n",
    "y18 = year18['아동학대 의심사례'].values\n",
    "\n",
    "x19 = h19['고위험'].values\n",
    "y19 = year19['아동학대 의심사례'].values\n",
    "\n",
    "x20 = h20['고위험'].values\n",
    "y20 = year20['아동학대 의심사례'].values\n",
    "\n",
    "x21 = h21['고위험'].values\n",
    "y21 = year21['아동학대 의심사례'].values"
   ]
  },
  {
   "cell_type": "code",
   "execution_count": 13,
   "id": "bf2aa250",
   "metadata": {},
   "outputs": [
    {
     "data": {
      "text/plain": [
       "<matplotlib.collections.PathCollection at 0x19173cabb20>"
      ]
     },
     "execution_count": 13,
     "metadata": {},
     "output_type": "execute_result"
    },
    {
     "data": {
      "image/png": "[encoded data removed]",
      "text/plain": [
       "<Figure size 640x480 with 4 Axes>"
      ]
     },
     "metadata": {},
     "output_type": "display_data"
    }
   ],
   "source": [
    "# 그래프 겹치지 않게 하기\n",
    "plt.subplots(constrained_layout=True)\n",
    "\n",
    "# 2018년도 범죄발생 건수와 아동학대 의심사례 상관관계\n",
    "plt.subplot(221)\n",
    "plt.title('<2018 고위험음주율과 의심사례 상관관계>', fontsize=10)\n",
    "plt.xlabel('고위험음주 비율', labelpad=10, fontsize=8)\n",
    "plt.ylabel('아동학대 의심사례 수 (건)', labelpad=10, fontsize=8)\n",
    "plt.scatter(x18, y18, alpha=0.5)\n",
    "\n",
    "# 2019년도 범죄발생 건수와 아동학대 의심사례 상관관계\n",
    "plt.subplot(222)\n",
    "plt.title('<2019 고위험음주율과 의심사례 상관관계>', fontsize=10)\n",
    "plt.xlabel('고위험음주 비율', labelpad=10, fontsize=8)\n",
    "plt.ylabel('아동학대 의심사례 수 (건)', labelpad=10, fontsize=8)\n",
    "plt.scatter(x19, y19, alpha=0.5)\n",
    "\n",
    "# 2020년도 범죄발생 건수와 아동학대 의심사례 상관관계\n",
    "plt.subplot(223)\n",
    "plt.title('<2020 고위험음주율과 의심사례 상관관계>', fontsize=10)\n",
    "plt.xlabel('고위험음주 비율', labelpad=10, fontsize=8)\n",
    "plt.ylabel('아동학대 의심사례 수 (건)', labelpad=10, fontsize=8)\n",
    "plt.scatter(x20, y20, alpha=0.5)\n",
    "\n",
    "# 2021년도 범죄발생 건수와 아동학대 의심사례 상관관계\n",
    "plt.subplot(224)\n",
    "plt.title('<2021 고위험음주율과 의심사례 상관관계>', fontsize=10)\n",
    "plt.xlabel('고위험음주 비율', labelpad=10, fontsize=8)\n",
    "plt.ylabel('아동학대 의심사례 수 (건)', labelpad=10, fontsize=8)\n",
    "plt.scatter(x21, y21, alpha=0.5)"
   ]
  },
  {
   "cell_type": "code",
   "execution_count": 14,
   "id": "bc834664",
   "metadata": {},
   "outputs": [
    {
     "name": "stdout",
     "output_type": "stream",
     "text": [
      "0.8571873897160164\n",
      "0.8499377733990137\n",
      "0.8177653543097267\n",
      "0.7882841408470954\n"
     ]
    }
   ],
   "source": [
    "# 상관계수\n",
    "print(np.corrcoef(x18, y18)[0, 1])\n",
    "print(np.corrcoef(x19, y19)[0, 1])\n",
    "print(np.corrcoef(x20, y20)[0, 1])\n",
    "print(np.corrcoef(x21, y21)[0, 1])"
   ]
  },
  {
   "cell_type": "markdown",
   "id": "5365e70e",
   "metadata": {},
   "source": [
    "### 2) 결론\n",
    "- 연도별 고위험음주비율과 아동학대 의심사례는 모두 0.7 이상의 상관계수 값을 가지므로 강한 양의 상관관계를 보인다고 할 수 있다. 이는 그래프를 통해서도 확인할 수 있다.\n",
    "- 위의 결과를 토대로 고위험음주율을 아동학대 의심사례를 원인으로 유추해 볼 만하다고 할 수 있다."
   ]
  },
  {
   "cell_type": "markdown",
   "id": "b56e12e7",
   "metadata": {},
   "source": [
    "### 3. 행정구역 시도별 경제활동인구 (2018-2021)"
   ]
  },
  {
   "cell_type": "markdown",
   "id": "845ea200",
   "metadata": {},
   "source": [
    "- 시도별 비경제활동인구수와 아동학대 비율은 관련이 있을 것이다."
   ]
  },
  {
   "cell_type": "code",
   "execution_count": 15,
   "id": "eb5b88dc",
   "metadata": {},
   "outputs": [
    {
     "data": {
      "text/html": [
       "<div>\n",
       "<style scoped>\n",
       "    .dataframe tbody tr th:only-of-type {\n",
       "        vertical-align: middle;\n",
       "    }\n",
       "\n",
       "    .dataframe tbody tr th {\n",
       "        vertical-align: top;\n",
       "    }\n",
       "\n",
       "    .dataframe thead th {\n",
       "        text-align: right;\n",
       "    }\n",
       "</style>\n",
       "<table border=\"1\" class=\"dataframe\">\n",
       "  <thead>\n",
       "    <tr style=\"text-align: right;\">\n",
       "      <th></th>\n",
       "      <th>시도별</th>\n",
       "      <th>시점</th>\n",
       "      <th>15세이상인구 (천명)</th>\n",
       "      <th>경제활동인구 (천명)</th>\n",
       "      <th>취업자 (천명)</th>\n",
       "      <th>실업자 (천명)</th>\n",
       "      <th>비경제활동인구 (천명)</th>\n",
       "      <th>경제활동참가율 (%)</th>\n",
       "      <th>실업률 (%)</th>\n",
       "      <th>고용률 (%)</th>\n",
       "      <th>15-64세 고용률 (%)</th>\n",
       "    </tr>\n",
       "  </thead>\n",
       "  <tbody>\n",
       "    <tr>\n",
       "      <th>4</th>\n",
       "      <td>서울특별시</td>\n",
       "      <td>2018</td>\n",
       "      <td>8521</td>\n",
       "      <td>5335</td>\n",
       "      <td>5080</td>\n",
       "      <td>254</td>\n",
       "      <td>3186</td>\n",
       "      <td>62.6</td>\n",
       "      <td>4.8</td>\n",
       "      <td>59.6</td>\n",
       "      <td>66.0</td>\n",
       "    </tr>\n",
       "    <tr>\n",
       "      <th>5</th>\n",
       "      <td>서울특별시</td>\n",
       "      <td>2019</td>\n",
       "      <td>8478</td>\n",
       "      <td>5319</td>\n",
       "      <td>5086</td>\n",
       "      <td>233</td>\n",
       "      <td>3159</td>\n",
       "      <td>62.7</td>\n",
       "      <td>4.4</td>\n",
       "      <td>60.0</td>\n",
       "      <td>66.3</td>\n",
       "    </tr>\n",
       "    <tr>\n",
       "      <th>6</th>\n",
       "      <td>서울특별시</td>\n",
       "      <td>2020</td>\n",
       "      <td>8516</td>\n",
       "      <td>5293</td>\n",
       "      <td>5051</td>\n",
       "      <td>241</td>\n",
       "      <td>3223</td>\n",
       "      <td>62.1</td>\n",
       "      <td>4.6</td>\n",
       "      <td>59.3</td>\n",
       "      <td>65.9</td>\n",
       "    </tr>\n",
       "    <tr>\n",
       "      <th>7</th>\n",
       "      <td>서울특별시</td>\n",
       "      <td>2021</td>\n",
       "      <td>8533</td>\n",
       "      <td>5312</td>\n",
       "      <td>5055</td>\n",
       "      <td>257</td>\n",
       "      <td>3221</td>\n",
       "      <td>62.3</td>\n",
       "      <td>4.8</td>\n",
       "      <td>59.2</td>\n",
       "      <td>66.6</td>\n",
       "    </tr>\n",
       "    <tr>\n",
       "      <th>8</th>\n",
       "      <td>부산광역시</td>\n",
       "      <td>2018</td>\n",
       "      <td>2975</td>\n",
       "      <td>1729</td>\n",
       "      <td>1657</td>\n",
       "      <td>71</td>\n",
       "      <td>1247</td>\n",
       "      <td>58.1</td>\n",
       "      <td>4.1</td>\n",
       "      <td>55.7</td>\n",
       "      <td>62.9</td>\n",
       "    </tr>\n",
       "  </tbody>\n",
       "</table>\n",
       "</div>"
      ],
      "text/plain": [
       "     시도별    시점  15세이상인구 (천명)  경제활동인구 (천명)  취업자 (천명)  실업자 (천명)  비경제활동인구 (천명)  \\\n",
       "4  서울특별시  2018          8521         5335      5080       254          3186   \n",
       "5  서울특별시  2019          8478         5319      5086       233          3159   \n",
       "6  서울특별시  2020          8516         5293      5051       241          3223   \n",
       "7  서울특별시  2021          8533         5312      5055       257          3221   \n",
       "8  부산광역시  2018          2975         1729      1657        71          1247   \n",
       "\n",
       "   경제활동참가율 (%)  실업률 (%)  고용률 (%)  15-64세 고용률 (%)  \n",
       "4         62.6      4.8     59.6            66.0  \n",
       "5         62.7      4.4     60.0            66.3  \n",
       "6         62.1      4.6     59.3            65.9  \n",
       "7         62.3      4.8     59.2            66.6  \n",
       "8         58.1      4.1     55.7            62.9  "
      ]
     },
     "execution_count": 15,
     "metadata": {},
     "output_type": "execute_result"
    }
   ],
   "source": [
    "economy = pd.read_csv('./data/행정구역_시도_별_경제활동인구_2018_2021.csv',\n",
    "                               encoding = 'cp949',\n",
    "                               low_memory = False)\n",
    "\n",
    "economy = economy[economy['시도별'] != '계']\n",
    "economy.head()"
   ]
  },
  {
   "cell_type": "code",
   "execution_count": 16,
   "id": "b507a0e0",
   "metadata": {},
   "outputs": [],
   "source": [
    "e18 = economy[economy['시점']==2018]\n",
    "e19 = economy[economy['시점']==2019]\n",
    "e20 = economy[economy['시점']==2020]\n",
    "e21 = economy[economy['시점']==2021]"
   ]
  },
  {
   "cell_type": "code",
   "execution_count": 17,
   "id": "0ea27d5e",
   "metadata": {},
   "outputs": [],
   "source": [
    "# 연도별 비경제활동인구 - 아동학대 의심사례 상관관계 분석\n",
    "x18 = e18['비경제활동인구 (천명)'].values\n",
    "y18 = year18['아동학대 의심사례'].values\n",
    "\n",
    "x19 = e19['비경제활동인구 (천명)'].values\n",
    "y19 = year19['아동학대 의심사례'].values\n",
    "\n",
    "x20 = e20['비경제활동인구 (천명)'].values\n",
    "y20 = year20['아동학대 의심사례'].values\n",
    "\n",
    "x21 = e21['비경제활동인구 (천명)'].values\n",
    "y21 = year21['아동학대 의심사례'].values"
   ]
  },
  {
   "cell_type": "code",
   "execution_count": 18,
   "id": "8f6ae236",
   "metadata": {},
   "outputs": [
    {
     "data": {
      "text/plain": [
       "<matplotlib.collections.PathCollection at 0x19173ec8940>"
      ]
     },
     "execution_count": 18,
     "metadata": {},
     "output_type": "execute_result"
    },
    {
     "data": {
      "image/png": "[encoded data removed]",
      "text/plain": [
       "<Figure size 640x480 with 4 Axes>"
      ]
     },
     "metadata": {},
     "output_type": "display_data"
    }
   ],
   "source": [
    "# 그래프 겹치지 않게 하기\n",
    "plt.subplots(constrained_layout=True)\n",
    "\n",
    "# 2018년도 범죄발생 건수와 아동학대 의심사례 상관관계\n",
    "plt.subplot(221)\n",
    "plt.title('<2018 비경제활동인구 수와 의심사례 상관관계>', fontsize=10)\n",
    "plt.xlabel('비경제활동인구 수', labelpad=10, fontsize=8)\n",
    "plt.ylabel('아동학대 의심사례 수 (건)', labelpad=10, fontsize=8)\n",
    "plt.scatter(x18, y18, alpha=0.5)\n",
    "\n",
    "# 2019년도 범죄발생 건수와 아동학대 의심사례 상관관계\n",
    "plt.subplot(222)\n",
    "plt.title('<2019 비경제활동인구 수와 의심사례 상관관계>', fontsize=10)\n",
    "plt.xlabel('비경제활동인구 수', labelpad=10, fontsize=8)\n",
    "plt.ylabel('아동학대 의심사례 수 (건)', labelpad=10, fontsize=8)\n",
    "plt.scatter(x19, y19, alpha=0.5)\n",
    "\n",
    "# 2020년도 범죄발생 건수와 아동학대 의심사례 상관관계\n",
    "plt.subplot(223)\n",
    "plt.title('<2020 비경제활동인구 수와 의심사례 상관관계>', fontsize=10)\n",
    "plt.xlabel('비경제활동인구 수', labelpad=10, fontsize=8)\n",
    "plt.ylabel('아동학대 의심사례 수 (건)', labelpad=10, fontsize=8)\n",
    "plt.scatter(x20, y20, alpha=0.5)\n",
    "\n",
    "# 2021년도 범죄발생 건수와 아동학대 의심사례 상관관계\n",
    "plt.subplot(224)\n",
    "plt.title('<2021 비경제활동인구 수와 의심사례 상관관계>', fontsize=10)\n",
    "plt.xlabel('비경제활동인구 수', labelpad=10, fontsize=8)\n",
    "plt.ylabel('아동학대 의심사례 수 (건)', labelpad=10, fontsize=8)\n",
    "plt.scatter(x21, y21, alpha=0.5)"
   ]
  },
  {
   "cell_type": "code",
   "execution_count": 19,
   "id": "9c90a064",
   "metadata": {},
   "outputs": [
    {
     "name": "stdout",
     "output_type": "stream",
     "text": [
      "0.8964060699978417\n",
      "0.8768415849872316\n",
      "0.9150018286763096\n",
      "0.9220150311694916\n"
     ]
    }
   ],
   "source": [
    "# 상관계수\n",
    "print(np.corrcoef(x18, y18)[0, 1])\n",
    "print(np.corrcoef(x19, y19)[0, 1])\n",
    "print(np.corrcoef(x20, y20)[0, 1])\n",
    "print(np.corrcoef(x21, y21)[0, 1])"
   ]
  },
  {
   "cell_type": "markdown",
   "id": "f3edf7a7",
   "metadata": {},
   "source": [
    "### 3) 결론 \n",
    "- 연도별 비경제활동인구 수와 아동학대 의심사례는 모두 0.8 이상의 상관계수 값을 가지므로 강한 양의 상관관계를 보인다고 할 수 있다. 이는 그래프를 통해서도 확인할 수 있다.\n",
    "- 위의 결과를 토대로 비경제활동인구를 아동학대 의심사례를 원인으로 유추해 볼 만하다고 할 수 있다."
   ]
  },
  {
   "cell_type": "markdown",
   "id": "701a3a37",
   "metadata": {},
   "source": [
    "### 최종 결론\n",
    "- 위의 세 가지 요인 모두 아동학대 의심사례와 관련하여 최소 0.75 이상의 상관계수 값을 가지므로, 상관성이 매우 높음을 확인할 수 있다.\n",
    "- 추후에 이러한 요인들이 아동학대 발생 여부의 원인이 될 수 있는지 인과관계를 파악해 볼 필요가 있는 것으로 보인다."
   ]
  }
 ],
 "metadata": {
  "kernelspec": {
   "display_name": "Python 3 (ipykernel)",
   "language": "python",
   "name": "python3"
  },
  "language_info": {
   "codemirror_mode": {
    "name": "ipython",
    "version": 3
   },
   "file_extension": ".py",
   "mimetype": "text/x-python",
   "name": "python",
   "nbconvert_exporter": "python",
   "pygments_lexer": "ipython3",
   "version": "3.10.10"
  }
 },
 "nbformat": 4,
 "nbformat_minor": 5
}
